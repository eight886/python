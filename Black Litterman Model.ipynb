{
 "cells": [
  {
   "cell_type": "markdown",
   "metadata": {},
   "source": [
    "# Black Litterman Model"
   ]
  },
  {
   "cell_type": "code",
   "execution_count": 37,
   "metadata": {},
   "outputs": [],
   "source": [
    "import matplotlib.pyplot as plt\n",
    "import pandas as pd\n",
    "import numpy as np"
   ]
  },
  {
   "cell_type": "code",
   "execution_count": 38,
   "metadata": {},
   "outputs": [],
   "source": [
    "# Definindo o range de datas... Período de 5 anos\n",
    "start_date = '2006-01-01'\n",
    "end_date = '2018-12-31'\n",
    "\n",
    "symbols = ['ABEV3','BBAS3','BBDC3','BRFS3','CCRO3','GGBR4','ITSA4',\n",
    "           'ITUB4','LREN3','PETR3','PETR4','VALE3']\n",
    "\n",
    "dates = pd.date_range(start_date, end_date)\n",
    "\n",
    "dfBase = pd.DataFrame(index = dates)\n",
    "\n",
    "dfCDI = pd.read_excel(\"C:/Users/Viviane/Desktop/Data/CDI.xlsx\", index_col = \"Date\", parse_dates = True,na_values=['nan'])\n",
    "dfCDI = pd.DataFrame(dfCDI['CDI'])\n",
    "\n",
    "dfIBOV = pd.read_csv(\"C:/Users/Viviane/Desktop/Data/IBOV.csv\", index_col = \"Date\", parse_dates = True,\n",
    "                     usecols = ['Date', 'Adj Close'], na_values=['nan'])\n",
    "\n",
    "dfIBOV = dfIBOV.dropna()\n",
    "dfIBOV = dfIBOV.rename(columns={'Adj Close': 'IBOV'})\n",
    "\n",
    "dfBase = dfBase.join(dfCDI['CDI'], how = 'inner')\n",
    "dfBase = dfBase.join(dfIBOV, how = 'inner')\n",
    "\n",
    "for symbol in symbols:\n",
    "    df_temp = pd.read_csv(\"C:/Users/Viviane/Desktop/Data/{}.csv\".format(symbol), index_col = \"Date\", parse_dates = True, \n",
    "                     usecols = ['Date', 'Adj Close'], na_values=['nan'])\n",
    "    df_temp = df_temp.rename(columns={'Adj Close': symbol})\n",
    "    dfBase = dfBase.join(df_temp)\n",
    "\n",
    "dfBase.fillna(method = \"ffill\", inplace = True)\n",
    "dfBase.fillna(method = \"bfill\", inplace = True)"
   ]
  },
  {
   "cell_type": "code",
   "execution_count": 39,
   "metadata": {},
   "outputs": [],
   "source": [
    "daily_Return = dfBase.copy()\n",
    "daily_Return = np.log(daily_Return / daily_Return.shift(1))\n",
    "daily_Return.iloc[0,:] = 0"
   ]
  },
  {
   "cell_type": "code",
   "execution_count": 40,
   "metadata": {},
   "outputs": [
    {
     "data": {
      "text/plain": [
       "2.035118996066036"
      ]
     },
     "execution_count": 40,
     "metadata": {},
     "output_type": "execute_result"
    }
   ],
   "source": [
    "Excess_Mkt_Return = np.array(daily_Return['IBOV']) - np.array(daily_Return['CDI'])\n",
    "price_of_risk = np.mean(Excess_Mkt_Return) / np.var(daily_Return['IBOV'])\n",
    "price_of_risk"
   ]
  },
  {
   "cell_type": "code",
   "execution_count": 41,
   "metadata": {},
   "outputs": [
    {
     "data": {
      "text/html": [
       "<div>\n",
       "<style scoped>\n",
       "    .dataframe tbody tr th:only-of-type {\n",
       "        vertical-align: middle;\n",
       "    }\n",
       "\n",
       "    .dataframe tbody tr th {\n",
       "        vertical-align: top;\n",
       "    }\n",
       "\n",
       "    .dataframe thead th {\n",
       "        text-align: right;\n",
       "    }\n",
       "</style>\n",
       "<table border=\"1\" class=\"dataframe\">\n",
       "  <thead>\n",
       "    <tr style=\"text-align: right;\">\n",
       "      <th></th>\n",
       "      <th>ABEV3</th>\n",
       "      <th>BBAS3</th>\n",
       "      <th>BBDC3</th>\n",
       "      <th>BRFS3</th>\n",
       "      <th>CCRO3</th>\n",
       "      <th>GGBR4</th>\n",
       "      <th>ITSA4</th>\n",
       "      <th>ITUB4</th>\n",
       "      <th>LREN3</th>\n",
       "      <th>PETR3</th>\n",
       "      <th>PETR4</th>\n",
       "      <th>VALE3</th>\n",
       "    </tr>\n",
       "  </thead>\n",
       "  <tbody>\n",
       "    <tr>\n",
       "      <th>ABEV3</th>\n",
       "      <td>0.000320</td>\n",
       "      <td>0.000164</td>\n",
       "      <td>0.000152</td>\n",
       "      <td>0.000122</td>\n",
       "      <td>0.000124</td>\n",
       "      <td>0.000157</td>\n",
       "      <td>0.000144</td>\n",
       "      <td>0.000160</td>\n",
       "      <td>0.000159</td>\n",
       "      <td>0.000147</td>\n",
       "      <td>0.000143</td>\n",
       "      <td>0.000164</td>\n",
       "    </tr>\n",
       "    <tr>\n",
       "      <th>BBAS3</th>\n",
       "      <td>0.000164</td>\n",
       "      <td>0.000759</td>\n",
       "      <td>0.000388</td>\n",
       "      <td>0.000223</td>\n",
       "      <td>0.000281</td>\n",
       "      <td>0.000359</td>\n",
       "      <td>0.000405</td>\n",
       "      <td>0.000433</td>\n",
       "      <td>0.000321</td>\n",
       "      <td>0.000423</td>\n",
       "      <td>0.000425</td>\n",
       "      <td>0.000324</td>\n",
       "    </tr>\n",
       "    <tr>\n",
       "      <th>BBDC3</th>\n",
       "      <td>0.000152</td>\n",
       "      <td>0.000388</td>\n",
       "      <td>0.000461</td>\n",
       "      <td>0.000182</td>\n",
       "      <td>0.000220</td>\n",
       "      <td>0.000292</td>\n",
       "      <td>0.000357</td>\n",
       "      <td>0.000382</td>\n",
       "      <td>0.000258</td>\n",
       "      <td>0.000330</td>\n",
       "      <td>0.000320</td>\n",
       "      <td>0.000270</td>\n",
       "    </tr>\n",
       "    <tr>\n",
       "      <th>BRFS3</th>\n",
       "      <td>0.000122</td>\n",
       "      <td>0.000223</td>\n",
       "      <td>0.000182</td>\n",
       "      <td>0.000539</td>\n",
       "      <td>0.000159</td>\n",
       "      <td>0.000201</td>\n",
       "      <td>0.000211</td>\n",
       "      <td>0.000206</td>\n",
       "      <td>0.000205</td>\n",
       "      <td>0.000198</td>\n",
       "      <td>0.000180</td>\n",
       "      <td>0.000191</td>\n",
       "    </tr>\n",
       "    <tr>\n",
       "      <th>CCRO3</th>\n",
       "      <td>0.000124</td>\n",
       "      <td>0.000281</td>\n",
       "      <td>0.000220</td>\n",
       "      <td>0.000159</td>\n",
       "      <td>0.000566</td>\n",
       "      <td>0.000206</td>\n",
       "      <td>0.000218</td>\n",
       "      <td>0.000225</td>\n",
       "      <td>0.000215</td>\n",
       "      <td>0.000231</td>\n",
       "      <td>0.000245</td>\n",
       "      <td>0.000188</td>\n",
       "    </tr>\n",
       "    <tr>\n",
       "      <th>GGBR4</th>\n",
       "      <td>0.000157</td>\n",
       "      <td>0.000359</td>\n",
       "      <td>0.000292</td>\n",
       "      <td>0.000201</td>\n",
       "      <td>0.000206</td>\n",
       "      <td>0.000807</td>\n",
       "      <td>0.000325</td>\n",
       "      <td>0.000325</td>\n",
       "      <td>0.000273</td>\n",
       "      <td>0.000421</td>\n",
       "      <td>0.000426</td>\n",
       "      <td>0.000497</td>\n",
       "    </tr>\n",
       "    <tr>\n",
       "      <th>ITSA4</th>\n",
       "      <td>0.000144</td>\n",
       "      <td>0.000405</td>\n",
       "      <td>0.000357</td>\n",
       "      <td>0.000211</td>\n",
       "      <td>0.000218</td>\n",
       "      <td>0.000325</td>\n",
       "      <td>0.000982</td>\n",
       "      <td>0.000444</td>\n",
       "      <td>0.000289</td>\n",
       "      <td>0.000327</td>\n",
       "      <td>0.000344</td>\n",
       "      <td>0.000281</td>\n",
       "    </tr>\n",
       "    <tr>\n",
       "      <th>ITUB4</th>\n",
       "      <td>0.000160</td>\n",
       "      <td>0.000433</td>\n",
       "      <td>0.000382</td>\n",
       "      <td>0.000206</td>\n",
       "      <td>0.000225</td>\n",
       "      <td>0.000325</td>\n",
       "      <td>0.000444</td>\n",
       "      <td>0.000512</td>\n",
       "      <td>0.000296</td>\n",
       "      <td>0.000358</td>\n",
       "      <td>0.000343</td>\n",
       "      <td>0.000309</td>\n",
       "    </tr>\n",
       "    <tr>\n",
       "      <th>LREN3</th>\n",
       "      <td>0.000159</td>\n",
       "      <td>0.000321</td>\n",
       "      <td>0.000258</td>\n",
       "      <td>0.000205</td>\n",
       "      <td>0.000215</td>\n",
       "      <td>0.000273</td>\n",
       "      <td>0.000289</td>\n",
       "      <td>0.000296</td>\n",
       "      <td>0.000696</td>\n",
       "      <td>0.000279</td>\n",
       "      <td>0.000259</td>\n",
       "      <td>0.000263</td>\n",
       "    </tr>\n",
       "    <tr>\n",
       "      <th>PETR3</th>\n",
       "      <td>0.000147</td>\n",
       "      <td>0.000423</td>\n",
       "      <td>0.000330</td>\n",
       "      <td>0.000198</td>\n",
       "      <td>0.000231</td>\n",
       "      <td>0.000421</td>\n",
       "      <td>0.000327</td>\n",
       "      <td>0.000358</td>\n",
       "      <td>0.000279</td>\n",
       "      <td>0.001450</td>\n",
       "      <td>0.000747</td>\n",
       "      <td>0.000452</td>\n",
       "    </tr>\n",
       "    <tr>\n",
       "      <th>PETR4</th>\n",
       "      <td>0.000143</td>\n",
       "      <td>0.000425</td>\n",
       "      <td>0.000320</td>\n",
       "      <td>0.000180</td>\n",
       "      <td>0.000245</td>\n",
       "      <td>0.000426</td>\n",
       "      <td>0.000344</td>\n",
       "      <td>0.000343</td>\n",
       "      <td>0.000259</td>\n",
       "      <td>0.000747</td>\n",
       "      <td>0.000804</td>\n",
       "      <td>0.000406</td>\n",
       "    </tr>\n",
       "    <tr>\n",
       "      <th>VALE3</th>\n",
       "      <td>0.000164</td>\n",
       "      <td>0.000324</td>\n",
       "      <td>0.000270</td>\n",
       "      <td>0.000191</td>\n",
       "      <td>0.000188</td>\n",
       "      <td>0.000497</td>\n",
       "      <td>0.000281</td>\n",
       "      <td>0.000309</td>\n",
       "      <td>0.000263</td>\n",
       "      <td>0.000452</td>\n",
       "      <td>0.000406</td>\n",
       "      <td>0.000744</td>\n",
       "    </tr>\n",
       "  </tbody>\n",
       "</table>\n",
       "</div>"
      ],
      "text/plain": [
       "          ABEV3     BBAS3     BBDC3     BRFS3     CCRO3     GGBR4     ITSA4  \\\n",
       "ABEV3  0.000320  0.000164  0.000152  0.000122  0.000124  0.000157  0.000144   \n",
       "BBAS3  0.000164  0.000759  0.000388  0.000223  0.000281  0.000359  0.000405   \n",
       "BBDC3  0.000152  0.000388  0.000461  0.000182  0.000220  0.000292  0.000357   \n",
       "BRFS3  0.000122  0.000223  0.000182  0.000539  0.000159  0.000201  0.000211   \n",
       "CCRO3  0.000124  0.000281  0.000220  0.000159  0.000566  0.000206  0.000218   \n",
       "GGBR4  0.000157  0.000359  0.000292  0.000201  0.000206  0.000807  0.000325   \n",
       "ITSA4  0.000144  0.000405  0.000357  0.000211  0.000218  0.000325  0.000982   \n",
       "ITUB4  0.000160  0.000433  0.000382  0.000206  0.000225  0.000325  0.000444   \n",
       "LREN3  0.000159  0.000321  0.000258  0.000205  0.000215  0.000273  0.000289   \n",
       "PETR3  0.000147  0.000423  0.000330  0.000198  0.000231  0.000421  0.000327   \n",
       "PETR4  0.000143  0.000425  0.000320  0.000180  0.000245  0.000426  0.000344   \n",
       "VALE3  0.000164  0.000324  0.000270  0.000191  0.000188  0.000497  0.000281   \n",
       "\n",
       "          ITUB4     LREN3     PETR3     PETR4     VALE3  \n",
       "ABEV3  0.000160  0.000159  0.000147  0.000143  0.000164  \n",
       "BBAS3  0.000433  0.000321  0.000423  0.000425  0.000324  \n",
       "BBDC3  0.000382  0.000258  0.000330  0.000320  0.000270  \n",
       "BRFS3  0.000206  0.000205  0.000198  0.000180  0.000191  \n",
       "CCRO3  0.000225  0.000215  0.000231  0.000245  0.000188  \n",
       "GGBR4  0.000325  0.000273  0.000421  0.000426  0.000497  \n",
       "ITSA4  0.000444  0.000289  0.000327  0.000344  0.000281  \n",
       "ITUB4  0.000512  0.000296  0.000358  0.000343  0.000309  \n",
       "LREN3  0.000296  0.000696  0.000279  0.000259  0.000263  \n",
       "PETR3  0.000358  0.000279  0.001450  0.000747  0.000452  \n",
       "PETR4  0.000343  0.000259  0.000747  0.000804  0.000406  \n",
       "VALE3  0.000309  0.000263  0.000452  0.000406  0.000744  "
      ]
     },
     "execution_count": 41,
     "metadata": {},
     "output_type": "execute_result"
    }
   ],
   "source": [
    "port_daily_Return = daily_Return.drop('IBOV',axis = 1).drop('CDI',axis = 1)\n",
    "Covariance_matrix = port_daily_Return.cov()\n",
    "Covariance_matrix"
   ]
  },
  {
   "cell_type": "code",
   "execution_count": 42,
   "metadata": {},
   "outputs": [
    {
     "data": {
      "text/plain": [
       "[0.12658548821585544,\n",
       " 0.062392074103965134,\n",
       " 0.11900749982731859,\n",
       " 0.008251445979794455,\n",
       " 0.012364445074580203,\n",
       " 0.010765324113962476,\n",
       " 0.05292231516724651,\n",
       " 0.15167882707499464,\n",
       " 0.014696098853758824,\n",
       " 0.15916365837432245,\n",
       " 0.15917229244600525,\n",
       " 0.12300053076819609]"
      ]
     },
     "execution_count": 42,
     "metadata": {},
     "output_type": "execute_result"
    }
   ],
   "source": [
    "mkt_weights = [278.562, 137.299, 261.886, 18.158, 27.209, 23.69, 116.46, 333.782, 32.34, 350.253, 350.272, 270.673]\n",
    "weights = []\n",
    "for i in range(len(mkt_weights)):\n",
    "    weights.append(mkt_weights[i]/sum(mkt_weights))\n",
    "weights"
   ]
  },
  {
   "cell_type": "code",
   "execution_count": 43,
   "metadata": {
    "scrolled": true
   },
   "outputs": [
    {
     "data": {
      "text/plain": [
       "array([0.00035337, 0.00079418, 0.00065724, 0.00038441, 0.00044294,\n",
       "       0.00072542, 0.00073048, 0.00072389, 0.00054272, 0.001169  ,\n",
       "       0.00094139, 0.00076532])"
      ]
     },
     "execution_count": 43,
     "metadata": {},
     "output_type": "execute_result"
    }
   ],
   "source": [
    "Implied_Equilibrium_Exc_Returns = np.dot(Covariance_matrix,weights)*price_of_risk\n",
    "Implied_Equilibrium_Exc_Returns"
   ]
  },
  {
   "cell_type": "code",
   "execution_count": 44,
   "metadata": {},
   "outputs": [
    {
     "data": {
      "text/plain": [
       "0.0003114294612270321"
      ]
     },
     "execution_count": 44,
     "metadata": {},
     "output_type": "execute_result"
    }
   ],
   "source": [
    "tau = 1 / len(daily_Return) #Fator tau (Incerteza das estimativas)\n",
    "                            #gerado de acordo com Meucci, sendo o inverso do tamanho da amostra.\n",
    "tau"
   ]
  },
  {
   "cell_type": "code",
   "execution_count": 45,
   "metadata": {},
   "outputs": [
    {
     "data": {
      "text/plain": [
       "array([[ 0. ,  0. ,  0. ],\n",
       "       [ 0. ,  1. ,  0. ],\n",
       "       [ 0. ,  0. ,  0. ],\n",
       "       [ 0. ,  0. ,  0. ],\n",
       "       [ 0. ,  0. ,  0. ],\n",
       "       [ 0. ,  0. , -1. ],\n",
       "       [ 0. , -0.5,  0. ],\n",
       "       [ 0. , -0.5,  0. ],\n",
       "       [ 0. ,  0. ,  0. ],\n",
       "       [ 0.5,  0. ,  0. ],\n",
       "       [ 0.5,  0. ,  0. ],\n",
       "       [ 0. ,  0. ,  1. ]])"
      ]
     },
     "execution_count": 45,
     "metadata": {},
     "output_type": "execute_result"
    }
   ],
   "source": [
    "views = np.array([0.0 for i in range(1,37)]).reshape((12,3))\n",
    "\n",
    "#Petro (absolute view)\n",
    "views[9,0] = 0.5\n",
    "views[10,0] = 0.5\n",
    "\n",
    "#BBAS perfomaria mais que ITAU (relative view)\n",
    "views[1,1] = 1.0\n",
    "views[6,1] = -0.5\n",
    "views[7,1] = -0.5\n",
    "\n",
    "#Vale sobre Gerdau (relative view)\n",
    "views[11,2] = 1.0\n",
    "views[5,2] = -1.0\n",
    "\n",
    "views"
   ]
  },
  {
   "cell_type": "code",
   "execution_count": 48,
   "metadata": {},
   "outputs": [],
   "source": [
    "Q_matrix = np.array([0.0525,0.03,0.01])\n",
    "confidence = np.array([0.25,0.50,0.65])"
   ]
  },
  {
   "cell_type": "code",
   "execution_count": 53,
   "metadata": {},
   "outputs": [
    {
     "ename": "ValueError",
     "evalue": "shapes (12,3) and (12,12) not aligned: 3 (dim 1) != 12 (dim 0)",
     "output_type": "error",
     "traceback": [
      "\u001b[1;31m---------------------------------------------------------------------------\u001b[0m",
      "\u001b[1;31mValueError\u001b[0m                                Traceback (most recent call last)",
      "\u001b[1;32m<ipython-input-53-f45e8d58136d>\u001b[0m in \u001b[0;36m<module>\u001b[1;34m()\u001b[0m\n\u001b[0;32m      5\u001b[0m     \u001b[1;32mfor\u001b[0m \u001b[0mj\u001b[0m \u001b[1;32min\u001b[0m \u001b[0mrange\u001b[0m\u001b[1;33m(\u001b[0m\u001b[0mk\u001b[0m\u001b[1;33m)\u001b[0m\u001b[1;33m:\u001b[0m\u001b[1;33m\u001b[0m\u001b[0m\n\u001b[0;32m      6\u001b[0m         \u001b[1;32mif\u001b[0m \u001b[1;33m(\u001b[0m\u001b[0mi\u001b[0m \u001b[1;33m==\u001b[0m \u001b[0mj\u001b[0m\u001b[1;33m)\u001b[0m\u001b[1;33m:\u001b[0m\u001b[1;33m\u001b[0m\u001b[0m\n\u001b[1;32m----> 7\u001b[1;33m             \u001b[0momega\u001b[0m \u001b[1;33m=\u001b[0m \u001b[0mnp\u001b[0m\u001b[1;33m.\u001b[0m\u001b[0mdot\u001b[0m\u001b[1;33m(\u001b[0m\u001b[0mnp\u001b[0m\u001b[1;33m.\u001b[0m\u001b[0mdot\u001b[0m\u001b[1;33m(\u001b[0m\u001b[1;33m(\u001b[0m\u001b[0mtau\u001b[0m \u001b[1;33m*\u001b[0m \u001b[0mviews\u001b[0m\u001b[1;33m)\u001b[0m\u001b[1;33m,\u001b[0m \u001b[0mCovariance_matrix\u001b[0m\u001b[1;33m)\u001b[0m\u001b[1;33m,\u001b[0m\u001b[0mview\u001b[0m\u001b[1;33m)\u001b[0m\u001b[1;33m\u001b[0m\u001b[0m\n\u001b[0m",
      "\u001b[1;31mValueError\u001b[0m: shapes (12,3) and (12,12) not aligned: 3 (dim 1) != 12 (dim 0)"
     ]
    }
   ],
   "source": [
    "k = views.shape[0]\n",
    "omega = np.zeros((k,k))\n",
    "\n",
    "for i in range(k):\n",
    "    for j in range(k):\n",
    "        if (i == j):\n",
    "            omega = np.dot(np.dot((tau * views), Covariance_matrix),view)"
   ]
  },
  {
   "cell_type": "code",
   "execution_count": null,
   "metadata": {},
   "outputs": [],
   "source": []
  }
 ],
 "metadata": {
  "kernelspec": {
   "display_name": "Python 3",
   "language": "python",
   "name": "python3"
  },
  "language_info": {
   "codemirror_mode": {
    "name": "ipython",
    "version": 3
   },
   "file_extension": ".py",
   "mimetype": "text/x-python",
   "name": "python",
   "nbconvert_exporter": "python",
   "pygments_lexer": "ipython3",
   "version": "3.7.0"
  }
 },
 "nbformat": 4,
 "nbformat_minor": 2
}
