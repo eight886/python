{
 "cells": [
  {
   "cell_type": "markdown",
   "metadata": {},
   "source": [
    "# Black Litterman Model"
   ]
  },
  {
   "cell_type": "code",
   "execution_count": 27,
   "metadata": {},
   "outputs": [],
   "source": [
    "import matplotlib.pyplot as plt\n",
    "import pandas as pd\n",
    "import numpy as np"
   ]
  },
  {
   "cell_type": "code",
   "execution_count": 273,
   "metadata": {},
   "outputs": [],
   "source": [
    "#Recebe DF com preços e devolve retorno médio anual\n",
    "def in_return(df): \n",
    "    price = df.copy()\n",
    "    price = (price / price.shift(1)) -1\n",
    "    price.iloc[0,:] = 0 # Primeira linha = 0     \n",
    "    \n",
    "    returns = np.matrix(price)\n",
    "    \n",
    "    mean_returns = np.mean(returns, axis = 0)\n",
    "        \n",
    "    return (mean_returns)\n",
    "\n",
    "#Carrega tabela de preços\n",
    "def load_prices(symbol, index, start_date, end_date):\n",
    "    \n",
    "    dates = pd.date_range(start_date, end_date)\n",
    "    dfBase = pd.DataFrame(index = dates)\n",
    "    \n",
    "    dfIndex = pd.read_csv(\"C:/Users/A3/Desktop/Dados/{}.csv\".format(index), index_col = \"Date\", parse_dates = True,\n",
    "                     usecols = ['Date', 'Adj Close'], na_values=['nan'])\n",
    "    dfIndex = dfIndex.dropna()\n",
    "    dfIndex = dfIndex.rename(columns={'Adj Close': '{}'.format(index)})\n",
    "    dfBase = dfBase.join(dfIndex, how = 'inner')\n",
    "    \n",
    "    \n",
    "    for symbol in symbols:\n",
    "        df_temp = pd.read_csv(\"C:/Users/A3/Desktop/Dados/{}.csv\".format(symbol), index_col = \"Date\", parse_dates = True, \n",
    "                     usecols = ['Date', 'Adj Close'], na_values=['nan'])\n",
    "        df_temp = df_temp.rename(columns={'Adj Close': symbol})\n",
    "        dfBase = dfBase.join(df_temp)\n",
    "    \n",
    "    dfBase.fillna(method = \"ffill\", inplace = True) #Tratando dados \n",
    "    dfBase.fillna(method = \"bfill\", inplace = True)\n",
    "    \n",
    "    return dfBase.drop('IBOV',axis = 1)\n",
    "\n",
    "#Calcula o retorno de um portfólio de ativos\n",
    "def port_return(W,r):\n",
    "    return sum(W*r)\n",
    "\n",
    "#Calcula o peso inicial do portfolio dado o tamanho de mercado do papel\n",
    "def mkt_weights(weights):\n",
    "    return np.array(weights) / sum(weights)\n",
    "\n",
    "#Calcula a matriz de retorno implicito\n",
    "def implied_equilibrium_return(A, S, w):\n",
    "    # A = Price of risk\n",
    "    # S = Covarianve matrix\n",
    "    # w = weights\n",
    "    \n",
    "    return (A*np.dot(S,w))\n",
    "\n",
    "#Calcula OMEGA MATRIX\n",
    "def omega(t,S,P):\n",
    "    #t = tau - Medida de incerteza da estimativa dos retornos históricos\n",
    "    # S = Covarianve matrix\n",
    "    # P = View matrix\n",
    "    return (t*np.dot(np.dot(P,S),P.T))\n",
    "\n",
    "#Black Litterman Model\n",
    "def expected_return(t,S,P,Q,PI):\n",
    "    #t = tau - Medida de incerteza da estimativa dos retornos históricos\n",
    "    # S = Covarianve matrix\n",
    "    # P = Link matrix\n",
    "    # Q = View matrix\n",
    "    # PI = Return Matrix\n",
    "    \n",
    "    omega = (t*np.dot(np.dot(P,S),P.T)) #Matriz que incorpora a incerteza das observações\n",
    "    passo_1 = np.linalg.inv(t*S)\n",
    "    passo_2 = np.dot(P.T, np.dot(np.linalg.inv(omega),P))\n",
    "    fim_1 =  np.linalg.inv(passo_1 + passo_2)\n",
    "    \n",
    "    print(fim_1)\n",
    "    \n",
    "    passo_3 = np.dot(passo_1,PI)\n",
    "    passo_4 = np.dot(P.T, np.dot(np.linalg.inv(omega),Q))\n",
    "    fim_2 = np.linalg.inv(passo_3 + passo_4)\n",
    "    print(fim_2)\n",
    "    \n",
    "    return np.dot(fim_1,fim_2)\n",
    "    \n"
   ]
  },
  {
   "cell_type": "code",
   "execution_count": 274,
   "metadata": {},
   "outputs": [],
   "source": [
    "start_date = '2006-01-01'\n",
    "end_date = '2018-12-31'"
   ]
  },
  {
   "cell_type": "code",
   "execution_count": 275,
   "metadata": {},
   "outputs": [],
   "source": [
    "symbols = ['ABEV3','BBAS3','GGBR4','ITSA4','ITUB4','PETR4','VALE3']\n",
    "weights = [278.562, 137.299, 23.69, 116.46, 333.782, 350.272, 270.673]"
   ]
  },
  {
   "cell_type": "code",
   "execution_count": 276,
   "metadata": {},
   "outputs": [],
   "source": [
    "precos = load_prices(symbols, 'IBOV', start_date, end_date)"
   ]
  },
  {
   "cell_type": "code",
   "execution_count": 277,
   "metadata": {},
   "outputs": [
    {
     "name": "stdout",
     "output_type": "stream",
     "text": [
      "[[0.0011979  0.00091703 0.00054875 0.00097466 0.00076108 0.0005453\n",
      "  0.00073449]]\n"
     ]
    }
   ],
   "source": [
    "daily_return = in_return(precos)\n",
    "print(daily_return)"
   ]
  },
  {
   "cell_type": "code",
   "execution_count": 278,
   "metadata": {},
   "outputs": [],
   "source": [
    "W = mkt_weights(weights)"
   ]
  },
  {
   "cell_type": "code",
   "execution_count": 280,
   "metadata": {},
   "outputs": [
    {
     "ename": "AttributeError",
     "evalue": "'matrix' object has no attribute 'cov'",
     "output_type": "error",
     "traceback": [
      "\u001b[1;31m---------------------------------------------------------------------------\u001b[0m",
      "\u001b[1;31mAttributeError\u001b[0m                            Traceback (most recent call last)",
      "\u001b[1;32m<ipython-input-280-1bc9445841b7>\u001b[0m in \u001b[0;36m<module>\u001b[1;34m()\u001b[0m\n\u001b[0;32m      1\u001b[0m \u001b[0mport_daily_Return\u001b[0m \u001b[1;33m=\u001b[0m \u001b[0mdaily_return\u001b[0m\u001b[1;33m\u001b[0m\u001b[0m\n\u001b[1;32m----> 2\u001b[1;33m \u001b[0mS\u001b[0m \u001b[1;33m=\u001b[0m \u001b[0mport_daily_Return\u001b[0m\u001b[1;33m.\u001b[0m\u001b[0mcov\u001b[0m\u001b[1;33m(\u001b[0m\u001b[1;33m)\u001b[0m\u001b[1;33m\u001b[0m\u001b[0m\n\u001b[0m\u001b[0;32m      3\u001b[0m \u001b[0mS\u001b[0m\u001b[1;33m\u001b[0m\u001b[0m\n",
      "\u001b[1;31mAttributeError\u001b[0m: 'matrix' object has no attribute 'cov'"
     ]
    }
   ],
   "source": [
    "port_daily_Return = daily_return\n",
    "S = port_daily_Return.cov() \n",
    "S"
   ]
  },
  {
   "cell_type": "code",
   "execution_count": 159,
   "metadata": {},
   "outputs": [
    {
     "data": {
      "text/plain": [
       "array([0.00018871, 0.00038985, 0.00035978, 0.00037599, 0.0003592 ,\n",
       "       0.00043382, 0.00038647])"
      ]
     },
     "execution_count": 159,
     "metadata": {},
     "output_type": "execute_result"
    }
   ],
   "source": [
    "PI = implied_equilibrium_return(1, S, W)\n",
    "PI"
   ]
  },
  {
   "cell_type": "code",
   "execution_count": 160,
   "metadata": {},
   "outputs": [],
   "source": [
    "Q = np.zeros((3,1))\n",
    "Q[0,0] = 0.005\n",
    "Q[1,0] = 0.01\n",
    "Q[2,0] = 0.005\n",
    "\n",
    "P = np.zeros((3,7))\n",
    "P[0,5] = 1\n",
    "P[0,6] = -1\n",
    "P[1,2] = 1\n",
    "P[1,0] = -1\n",
    "P[2,1] = 1\n",
    "P[2,3] = -1"
   ]
  },
  {
   "cell_type": "code",
   "execution_count": 161,
   "metadata": {},
   "outputs": [
    {
     "data": {
      "text/html": [
       "<div>\n",
       "<style scoped>\n",
       "    .dataframe tbody tr th:only-of-type {\n",
       "        vertical-align: middle;\n",
       "    }\n",
       "\n",
       "    .dataframe tbody tr th {\n",
       "        vertical-align: top;\n",
       "    }\n",
       "\n",
       "    .dataframe thead th {\n",
       "        text-align: right;\n",
       "    }\n",
       "</style>\n",
       "<table border=\"1\" class=\"dataframe\">\n",
       "  <thead>\n",
       "    <tr style=\"text-align: right;\">\n",
       "      <th></th>\n",
       "      <th>0</th>\n",
       "      <th>1</th>\n",
       "      <th>2</th>\n",
       "      <th>3</th>\n",
       "      <th>4</th>\n",
       "      <th>5</th>\n",
       "      <th>6</th>\n",
       "    </tr>\n",
       "  </thead>\n",
       "  <tbody>\n",
       "    <tr>\n",
       "      <th>0</th>\n",
       "      <td>68206.551234</td>\n",
       "      <td>4.927323e+05</td>\n",
       "      <td>-68745.173986</td>\n",
       "      <td>-4.853669e+05</td>\n",
       "      <td>-3899.824999</td>\n",
       "      <td>-2.064067e+05</td>\n",
       "      <td>2.034798e+05</td>\n",
       "    </tr>\n",
       "    <tr>\n",
       "      <th>1</th>\n",
       "      <td>-393289.184400</td>\n",
       "      <td>-2.741888e+06</td>\n",
       "      <td>405561.860289</td>\n",
       "      <td>2.667902e+06</td>\n",
       "      <td>29158.408924</td>\n",
       "      <td>1.115387e+06</td>\n",
       "      <td>-1.082833e+06</td>\n",
       "    </tr>\n",
       "    <tr>\n",
       "      <th>2</th>\n",
       "      <td>425569.167162</td>\n",
       "      <td>2.833265e+06</td>\n",
       "      <td>-430132.899891</td>\n",
       "      <td>-2.794510e+06</td>\n",
       "      <td>-9291.881438</td>\n",
       "      <td>-1.135339e+06</td>\n",
       "      <td>1.110439e+06</td>\n",
       "    </tr>\n",
       "    <tr>\n",
       "      <th>3</th>\n",
       "      <td>-873676.860742</td>\n",
       "      <td>-5.882221e+06</td>\n",
       "      <td>873034.142840</td>\n",
       "      <td>5.811247e+06</td>\n",
       "      <td>33810.561716</td>\n",
       "      <td>2.378069e+06</td>\n",
       "      <td>-2.340263e+06</td>\n",
       "    </tr>\n",
       "    <tr>\n",
       "      <th>4</th>\n",
       "      <td>-336237.355984</td>\n",
       "      <td>-2.293324e+06</td>\n",
       "      <td>335944.819828</td>\n",
       "      <td>2.271973e+06</td>\n",
       "      <td>-15550.140504</td>\n",
       "      <td>9.477649e+05</td>\n",
       "      <td>-9.105713e+05</td>\n",
       "    </tr>\n",
       "    <tr>\n",
       "      <th>5</th>\n",
       "      <td>322847.262789</td>\n",
       "      <td>2.054157e+06</td>\n",
       "      <td>-319908.894433</td>\n",
       "      <td>-2.083407e+06</td>\n",
       "      <td>74905.180320</td>\n",
       "      <td>-8.385052e+05</td>\n",
       "      <td>7.899115e+05</td>\n",
       "    </tr>\n",
       "    <tr>\n",
       "      <th>6</th>\n",
       "      <td>216885.379896</td>\n",
       "      <td>1.397583e+06</td>\n",
       "      <td>-213530.298420</td>\n",
       "      <td>-1.343688e+06</td>\n",
       "      <td>-29867.609083</td>\n",
       "      <td>-5.493318e+05</td>\n",
       "      <td>5.219486e+05</td>\n",
       "    </tr>\n",
       "  </tbody>\n",
       "</table>\n",
       "</div>"
      ],
      "text/plain": [
       "               0             1              2             3             4  \\\n",
       "0   68206.551234  4.927323e+05  -68745.173986 -4.853669e+05  -3899.824999   \n",
       "1 -393289.184400 -2.741888e+06  405561.860289  2.667902e+06  29158.408924   \n",
       "2  425569.167162  2.833265e+06 -430132.899891 -2.794510e+06  -9291.881438   \n",
       "3 -873676.860742 -5.882221e+06  873034.142840  5.811247e+06  33810.561716   \n",
       "4 -336237.355984 -2.293324e+06  335944.819828  2.271973e+06 -15550.140504   \n",
       "5  322847.262789  2.054157e+06 -319908.894433 -2.083407e+06  74905.180320   \n",
       "6  216885.379896  1.397583e+06 -213530.298420 -1.343688e+06 -29867.609083   \n",
       "\n",
       "              5             6  \n",
       "0 -2.064067e+05  2.034798e+05  \n",
       "1  1.115387e+06 -1.082833e+06  \n",
       "2 -1.135339e+06  1.110439e+06  \n",
       "3  2.378069e+06 -2.340263e+06  \n",
       "4  9.477649e+05 -9.105713e+05  \n",
       "5 -8.385052e+05  7.899115e+05  \n",
       "6 -5.493318e+05  5.219486e+05  "
      ]
     },
     "execution_count": 161,
     "metadata": {},
     "output_type": "execute_result"
    }
   ],
   "source": [
    "t = 1 / len(daily_return)\n",
    "pd.DataFrame(expected_return(t,S,P,Q,PI))"
   ]
  },
  {
   "cell_type": "code",
   "execution_count": null,
   "metadata": {},
   "outputs": [],
   "source": []
  }
 ],
 "metadata": {
  "kernelspec": {
   "display_name": "Python 3",
   "language": "python",
   "name": "python3"
  },
  "language_info": {
   "codemirror_mode": {
    "name": "ipython",
    "version": 3
   },
   "file_extension": ".py",
   "mimetype": "text/x-python",
   "name": "python",
   "nbconvert_exporter": "python",
   "pygments_lexer": "ipython3",
   "version": "3.6.5"
  }
 },
 "nbformat": 4,
 "nbformat_minor": 2
}
