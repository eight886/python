{
 "cells": [
  {
   "cell_type": "markdown",
   "metadata": {},
   "source": [
    "# Black Litterman Model"
   ]
  },
  {
   "cell_type": "code",
   "execution_count": 23,
   "metadata": {},
   "outputs": [],
   "source": [
    "import matplotlib.pyplot as plt\n",
    "import pandas as pd\n",
    "import numpy as np"
   ]
  },
  {
   "cell_type": "code",
   "execution_count": 128,
   "metadata": {},
   "outputs": [],
   "source": [
    "#Recebe DF com preços e devolve retorno médio anual\n",
    "def in_return_cov(df): \n",
    "    price = df.copy()\n",
    "    price = (price / price.shift(1)) -1\n",
    "    price.iloc[0,:] = 0 # Primeira linha = 0     \n",
    "    \n",
    "    returns = np.matrix(price)\n",
    "    mean_returns = np.mean(returns, axis = 0)\n",
    "    \n",
    "    annual_returns = np.array([])\n",
    "    for i in range(len(np.transpose(mean_returns))):\n",
    "        annual_returns = np.append(annual_returns,(mean_returns[0,i]+1)**252-1)   \n",
    "\n",
    "    cov = price.cov() \n",
    "    return (annual_returns, cov)\n",
    "\n",
    "#Carrega tabela de preços\n",
    "def load_prices(symbol, index, start_date, end_date):\n",
    "    \n",
    "    dates = pd.date_range(start_date, end_date)\n",
    "    dfBase = pd.DataFrame(index = dates)\n",
    "    \n",
    "    dfIndex = pd.read_csv(\"C:/Users/A3/Desktop/Dados/{}.csv\".format(index), index_col = \"Date\", parse_dates = True,\n",
    "                     usecols = ['Date', 'Adj Close'], na_values=['nan'])\n",
    "    dfIndex = dfIndex.dropna()\n",
    "    dfIndex = dfIndex.rename(columns={'Adj Close': '{}'.format(index)})\n",
    "    dfBase = dfBase.join(dfIndex, how = 'inner')\n",
    "    \n",
    "    \n",
    "    for symbol in symbols:\n",
    "        df_temp = pd.read_csv(\"C:/Users/A3/Desktop/Dados/{}.csv\".format(symbol), index_col = \"Date\", parse_dates = True, \n",
    "                     usecols = ['Date', 'Adj Close'], na_values=['nan'])\n",
    "        df_temp = df_temp.rename(columns={'Adj Close': symbol})\n",
    "        dfBase = dfBase.join(df_temp)\n",
    "    \n",
    "    dfBase.fillna(method = \"ffill\", inplace = True) #Tratando dados \n",
    "    dfBase.fillna(method = \"bfill\", inplace = True)\n",
    "    \n",
    "    return dfBase.drop('IBOV',axis = 1) #Tiro o índice da tabela de preços...\n",
    "\n",
    "#Calcula o retorno de um portfólio de ativos\n",
    "def port_return(W,r):\n",
    "    return sum(W*r)\n",
    "\n",
    "#Calcula o peso inicial do portfolio dado o tamanho de mercado do papel\n",
    "def mkt_weights(weights):\n",
    "    return np.array(weights) / sum(weights)\n",
    "\n",
    "#Calcula a matriz de retorno implicito\n",
    "def implied_equilibrium_return(A, S, w):\n",
    "    # A = Price of risk\n",
    "    # S = Covarianve matrix\n",
    "    # w = weights\n",
    "    \n",
    "    return (np.dot(A,np.dot(S,w)))\n",
    "\n",
    "#Black Litterman Model\n",
    "def expected_return(t,S,P,Q,PI):\n",
    "    #t = tau - Medida de incerteza da estimativa dos retornos históricos\n",
    "    # S = Covarianve matrix\n",
    "    # P = Link matrix\n",
    "    # Q = View matrix\n",
    "    # PI = Return Matrix\n",
    "    \n",
    "    omega = np.dot(np.dot(np.dot(t, P), S),np.transpose(P)) #Matriz que incorpora a incerteza das observações\n",
    "    passo_1 = np.linalg.inv(np.dot(t,S))\n",
    "    passo_2 = np.dot(P.T, np.dot(np.linalg.inv(omega),P))\n",
    "    fim_1 =  np.linalg.inv(passo_1 + passo_2)\n",
    "    \n",
    "    passo_3 = np.dot(passo_1,PI)\n",
    "    passo_4 = np.dot(P.T, np.dot(np.linalg.inv(omega),Q))\n",
    "    fim_2 = np.linalg.inv(passo_3 + passo_4)\n",
    "    \n",
    "    return np.dot(fim_1,fim_2)\n",
    "    \n"
   ]
  },
  {
   "cell_type": "code",
   "execution_count": 129,
   "metadata": {},
   "outputs": [],
   "source": [
    "start_date = '2006-01-01'\n",
    "end_date = '2018-12-31'"
   ]
  },
  {
   "cell_type": "code",
   "execution_count": 130,
   "metadata": {},
   "outputs": [],
   "source": [
    "symbols = ['ABEV3','BBAS3','GGBR4','ITSA4','ITUB4','PETR4','VALE3']\n",
    "weights = [278.562, 137.299, 23.69, 116.46, 333.782, 350.272, 270.673]"
   ]
  },
  {
   "cell_type": "code",
   "execution_count": 131,
   "metadata": {},
   "outputs": [],
   "source": [
    "precos = load_prices(symbols, 'IBOV', start_date, end_date)"
   ]
  },
  {
   "cell_type": "code",
   "execution_count": 132,
   "metadata": {
    "scrolled": false
   },
   "outputs": [
    {
     "data": {
      "text/plain": [
       "array([0.35214366, 0.25984275, 0.14825898, 0.27825301, 0.21132961,\n",
       "       0.14726054, 0.20324718])"
      ]
     },
     "execution_count": 132,
     "metadata": {},
     "output_type": "execute_result"
    }
   ],
   "source": [
    "assets_return , S = in_return_cov(precos)\n",
    "assets_return"
   ]
  },
  {
   "cell_type": "code",
   "execution_count": 133,
   "metadata": {},
   "outputs": [
    {
     "data": {
      "text/html": [
       "<div>\n",
       "<style scoped>\n",
       "    .dataframe tbody tr th:only-of-type {\n",
       "        vertical-align: middle;\n",
       "    }\n",
       "\n",
       "    .dataframe tbody tr th {\n",
       "        vertical-align: top;\n",
       "    }\n",
       "\n",
       "    .dataframe thead th {\n",
       "        text-align: right;\n",
       "    }\n",
       "</style>\n",
       "<table border=\"1\" class=\"dataframe\">\n",
       "  <thead>\n",
       "    <tr style=\"text-align: right;\">\n",
       "      <th></th>\n",
       "      <th>ABEV3</th>\n",
       "      <th>BBAS3</th>\n",
       "      <th>GGBR4</th>\n",
       "      <th>ITSA4</th>\n",
       "      <th>ITUB4</th>\n",
       "      <th>PETR4</th>\n",
       "      <th>VALE3</th>\n",
       "    </tr>\n",
       "  </thead>\n",
       "  <tbody>\n",
       "    <tr>\n",
       "      <th>ABEV3</th>\n",
       "      <td>0.000337</td>\n",
       "      <td>0.000164</td>\n",
       "      <td>0.000157</td>\n",
       "      <td>0.000144</td>\n",
       "      <td>0.000161</td>\n",
       "      <td>0.000143</td>\n",
       "      <td>0.000164</td>\n",
       "    </tr>\n",
       "    <tr>\n",
       "      <th>BBAS3</th>\n",
       "      <td>0.000164</td>\n",
       "      <td>0.000761</td>\n",
       "      <td>0.000359</td>\n",
       "      <td>0.000406</td>\n",
       "      <td>0.000436</td>\n",
       "      <td>0.000425</td>\n",
       "      <td>0.000327</td>\n",
       "    </tr>\n",
       "    <tr>\n",
       "      <th>GGBR4</th>\n",
       "      <td>0.000157</td>\n",
       "      <td>0.000359</td>\n",
       "      <td>0.000811</td>\n",
       "      <td>0.000327</td>\n",
       "      <td>0.000326</td>\n",
       "      <td>0.000426</td>\n",
       "      <td>0.000498</td>\n",
       "    </tr>\n",
       "    <tr>\n",
       "      <th>ITSA4</th>\n",
       "      <td>0.000144</td>\n",
       "      <td>0.000406</td>\n",
       "      <td>0.000327</td>\n",
       "      <td>0.000997</td>\n",
       "      <td>0.000449</td>\n",
       "      <td>0.000347</td>\n",
       "      <td>0.000284</td>\n",
       "    </tr>\n",
       "    <tr>\n",
       "      <th>ITUB4</th>\n",
       "      <td>0.000161</td>\n",
       "      <td>0.000436</td>\n",
       "      <td>0.000326</td>\n",
       "      <td>0.000449</td>\n",
       "      <td>0.000518</td>\n",
       "      <td>0.000345</td>\n",
       "      <td>0.000311</td>\n",
       "    </tr>\n",
       "    <tr>\n",
       "      <th>PETR4</th>\n",
       "      <td>0.000143</td>\n",
       "      <td>0.000425</td>\n",
       "      <td>0.000426</td>\n",
       "      <td>0.000347</td>\n",
       "      <td>0.000345</td>\n",
       "      <td>0.000803</td>\n",
       "      <td>0.000408</td>\n",
       "    </tr>\n",
       "    <tr>\n",
       "      <th>VALE3</th>\n",
       "      <td>0.000164</td>\n",
       "      <td>0.000327</td>\n",
       "      <td>0.000498</td>\n",
       "      <td>0.000284</td>\n",
       "      <td>0.000311</td>\n",
       "      <td>0.000408</td>\n",
       "      <td>0.000745</td>\n",
       "    </tr>\n",
       "  </tbody>\n",
       "</table>\n",
       "</div>"
      ],
      "text/plain": [
       "          ABEV3     BBAS3     GGBR4     ITSA4     ITUB4     PETR4     VALE3\n",
       "ABEV3  0.000337  0.000164  0.000157  0.000144  0.000161  0.000143  0.000164\n",
       "BBAS3  0.000164  0.000761  0.000359  0.000406  0.000436  0.000425  0.000327\n",
       "GGBR4  0.000157  0.000359  0.000811  0.000327  0.000326  0.000426  0.000498\n",
       "ITSA4  0.000144  0.000406  0.000327  0.000997  0.000449  0.000347  0.000284\n",
       "ITUB4  0.000161  0.000436  0.000326  0.000449  0.000518  0.000345  0.000311\n",
       "PETR4  0.000143  0.000425  0.000426  0.000347  0.000345  0.000803  0.000408\n",
       "VALE3  0.000164  0.000327  0.000498  0.000284  0.000311  0.000408  0.000745"
      ]
     },
     "metadata": {},
     "output_type": "display_data"
    }
   ],
   "source": [
    "display(pd.DataFrame(S,columns = symbols,index = symbols))"
   ]
  },
  {
   "cell_type": "code",
   "execution_count": 134,
   "metadata": {},
   "outputs": [],
   "source": [
    "W = mkt_weights(weights)"
   ]
  },
  {
   "cell_type": "code",
   "execution_count": 135,
   "metadata": {},
   "outputs": [
    {
     "data": {
      "text/html": [
       "<div>\n",
       "<style scoped>\n",
       "    .dataframe tbody tr th:only-of-type {\n",
       "        vertical-align: middle;\n",
       "    }\n",
       "\n",
       "    .dataframe tbody tr th {\n",
       "        vertical-align: top;\n",
       "    }\n",
       "\n",
       "    .dataframe thead th {\n",
       "        text-align: right;\n",
       "    }\n",
       "</style>\n",
       "<table border=\"1\" class=\"dataframe\">\n",
       "  <thead>\n",
       "    <tr style=\"text-align: right;\">\n",
       "      <th></th>\n",
       "      <th>ABEV3</th>\n",
       "      <th>BBAS3</th>\n",
       "      <th>GGBR4</th>\n",
       "      <th>ITSA4</th>\n",
       "      <th>ITUB4</th>\n",
       "      <th>PETR4</th>\n",
       "      <th>VALE3</th>\n",
       "    </tr>\n",
       "  </thead>\n",
       "  <tbody>\n",
       "    <tr>\n",
       "      <th>Annual Mean Return %</th>\n",
       "      <td>35.214366</td>\n",
       "      <td>25.984275</td>\n",
       "      <td>14.825898</td>\n",
       "      <td>27.825301</td>\n",
       "      <td>21.132961</td>\n",
       "      <td>14.726054</td>\n",
       "      <td>20.324718</td>\n",
       "    </tr>\n",
       "    <tr>\n",
       "      <th>Weight (based on market cap)</th>\n",
       "      <td>0.184388</td>\n",
       "      <td>0.090882</td>\n",
       "      <td>0.015681</td>\n",
       "      <td>0.077088</td>\n",
       "      <td>0.220940</td>\n",
       "      <td>0.231855</td>\n",
       "      <td>0.179166</td>\n",
       "    </tr>\n",
       "  </tbody>\n",
       "</table>\n",
       "</div>"
      ],
      "text/plain": [
       "                                  ABEV3      BBAS3      GGBR4      ITSA4  \\\n",
       "Annual Mean Return %          35.214366  25.984275  14.825898  27.825301   \n",
       "Weight (based on market cap)   0.184388   0.090882   0.015681   0.077088   \n",
       "\n",
       "                                  ITUB4      PETR4      VALE3  \n",
       "Annual Mean Return %          21.132961  14.726054  20.324718  \n",
       "Weight (based on market cap)   0.220940   0.231855   0.179166  "
      ]
     },
     "metadata": {},
     "output_type": "display_data"
    }
   ],
   "source": [
    "display(pd.DataFrame({'Annual Mean Return %': assets_return*100.00, 'Weight (based on market cap)': W}, index=symbols).T)"
   ]
  },
  {
   "cell_type": "code",
   "execution_count": null,
   "metadata": {},
   "outputs": [],
   "source": []
  },
  {
   "cell_type": "code",
   "execution_count": 136,
   "metadata": {
    "scrolled": true
   },
   "outputs": [
    {
     "data": {
      "text/plain": [
       "array([0.00018871, 0.00038985, 0.00035978, 0.00037599, 0.0003592 ,\n",
       "       0.00043382, 0.00038647])"
      ]
     },
     "execution_count": 136,
     "metadata": {},
     "output_type": "execute_result"
    }
   ],
   "source": [
    "\n",
    "PI = implied_equilibrium_return(1, S, W)\n",
    "PI"
   ]
  },
  {
   "cell_type": "code",
   "execution_count": 141,
   "metadata": {},
   "outputs": [],
   "source": [
    "Q = np.zeros((3,1))\n",
    "Q[0,0] = 0.005\n",
    "Q[1,0] = 0.01\n",
    "Q[2,0] = 0.005\n",
    "\n",
    "P = np.zeros((3,7))\n",
    "P[0,5] = 1\n",
    "P[0,6] = -1\n",
    "P[1,2] = 1\n",
    "P[1,0] = -1\n",
    "P[2,1] = 1\n",
    "P[2,3] = -1\n"
   ]
  },
  {
   "cell_type": "code",
   "execution_count": 138,
   "metadata": {},
   "outputs": [
    {
     "data": {
      "text/html": [
       "<div>\n",
       "<style scoped>\n",
       "    .dataframe tbody tr th:only-of-type {\n",
       "        vertical-align: middle;\n",
       "    }\n",
       "\n",
       "    .dataframe tbody tr th {\n",
       "        vertical-align: top;\n",
       "    }\n",
       "\n",
       "    .dataframe thead th {\n",
       "        text-align: right;\n",
       "    }\n",
       "</style>\n",
       "<table border=\"1\" class=\"dataframe\">\n",
       "  <thead>\n",
       "    <tr style=\"text-align: right;\">\n",
       "      <th></th>\n",
       "      <th>0</th>\n",
       "      <th>1</th>\n",
       "      <th>2</th>\n",
       "      <th>3</th>\n",
       "      <th>4</th>\n",
       "      <th>5</th>\n",
       "      <th>6</th>\n",
       "    </tr>\n",
       "  </thead>\n",
       "  <tbody>\n",
       "    <tr>\n",
       "      <th>0</th>\n",
       "      <td>1.279643e+05</td>\n",
       "      <td>4.150171e+05</td>\n",
       "      <td>-1.277031e+05</td>\n",
       "      <td>-4.133192e+05</td>\n",
       "      <td>-2.746594</td>\n",
       "      <td>-5.837325e+04</td>\n",
       "      <td>5.641687e+04</td>\n",
       "    </tr>\n",
       "    <tr>\n",
       "      <th>1</th>\n",
       "      <td>-5.118163e+05</td>\n",
       "      <td>-2.073130e+06</td>\n",
       "      <td>5.189617e+05</td>\n",
       "      <td>2.032414e+06</td>\n",
       "      <td>9100.187004</td>\n",
       "      <td>4.933113e+05</td>\n",
       "      <td>-4.688404e+05</td>\n",
       "    </tr>\n",
       "    <tr>\n",
       "      <th>2</th>\n",
       "      <td>4.410954e+05</td>\n",
       "      <td>2.073013e+06</td>\n",
       "      <td>-4.402645e+05</td>\n",
       "      <td>-2.069211e+06</td>\n",
       "      <td>10646.165296</td>\n",
       "      <td>-6.249346e+05</td>\n",
       "      <td>6.096549e+05</td>\n",
       "    </tr>\n",
       "    <tr>\n",
       "      <th>3</th>\n",
       "      <td>-1.055677e+06</td>\n",
       "      <td>-4.441027e+06</td>\n",
       "      <td>1.044130e+06</td>\n",
       "      <td>4.441882e+06</td>\n",
       "      <td>-8929.688453</td>\n",
       "      <td>1.159150e+06</td>\n",
       "      <td>-1.139528e+06</td>\n",
       "    </tr>\n",
       "    <tr>\n",
       "      <th>4</th>\n",
       "      <td>-4.701640e+05</td>\n",
       "      <td>-1.837379e+06</td>\n",
       "      <td>4.659841e+05</td>\n",
       "      <td>1.842842e+06</td>\n",
       "      <td>-32284.659461</td>\n",
       "      <td>4.366294e+05</td>\n",
       "      <td>-4.056271e+05</td>\n",
       "    </tr>\n",
       "    <tr>\n",
       "      <th>5</th>\n",
       "      <td>3.119061e+05</td>\n",
       "      <td>1.608585e+06</td>\n",
       "      <td>-3.056258e+05</td>\n",
       "      <td>-1.661626e+06</td>\n",
       "      <td>88415.894294</td>\n",
       "      <td>-5.732760e+05</td>\n",
       "      <td>5.316216e+05</td>\n",
       "    </tr>\n",
       "    <tr>\n",
       "      <th>6</th>\n",
       "      <td>1.433223e+05</td>\n",
       "      <td>9.026807e+05</td>\n",
       "      <td>-1.368032e+05</td>\n",
       "      <td>-8.672544e+05</td>\n",
       "      <td>-20442.514773</td>\n",
       "      <td>-3.547458e+05</td>\n",
       "      <td>3.332430e+05</td>\n",
       "    </tr>\n",
       "  </tbody>\n",
       "</table>\n",
       "</div>"
      ],
      "text/plain": [
       "              0             1             2             3             4  \\\n",
       "0  1.279643e+05  4.150171e+05 -1.277031e+05 -4.133192e+05     -2.746594   \n",
       "1 -5.118163e+05 -2.073130e+06  5.189617e+05  2.032414e+06   9100.187004   \n",
       "2  4.410954e+05  2.073013e+06 -4.402645e+05 -2.069211e+06  10646.165296   \n",
       "3 -1.055677e+06 -4.441027e+06  1.044130e+06  4.441882e+06  -8929.688453   \n",
       "4 -4.701640e+05 -1.837379e+06  4.659841e+05  1.842842e+06 -32284.659461   \n",
       "5  3.119061e+05  1.608585e+06 -3.056258e+05 -1.661626e+06  88415.894294   \n",
       "6  1.433223e+05  9.026807e+05 -1.368032e+05 -8.672544e+05 -20442.514773   \n",
       "\n",
       "              5             6  \n",
       "0 -5.837325e+04  5.641687e+04  \n",
       "1  4.933113e+05 -4.688404e+05  \n",
       "2 -6.249346e+05  6.096549e+05  \n",
       "3  1.159150e+06 -1.139528e+06  \n",
       "4  4.366294e+05 -4.056271e+05  \n",
       "5 -5.732760e+05  5.316216e+05  \n",
       "6 -3.547458e+05  3.332430e+05  "
      ]
     },
     "metadata": {},
     "output_type": "display_data"
    }
   ],
   "source": [
    "t = 1 / len(precos)\n",
    "expc_return = expected_return(t,S,P,Q,PI)\n",
    "display(pd.DataFrame(expc_return))"
   ]
  },
  {
   "cell_type": "code",
   "execution_count": null,
   "metadata": {},
   "outputs": [],
   "source": []
  }
 ],
 "metadata": {
  "kernelspec": {
   "display_name": "Python 3",
   "language": "python",
   "name": "python3"
  },
  "language_info": {
   "codemirror_mode": {
    "name": "ipython",
    "version": 3
   },
   "file_extension": ".py",
   "mimetype": "text/x-python",
   "name": "python",
   "nbconvert_exporter": "python",
   "pygments_lexer": "ipython3",
   "version": "3.6.5"
  }
 },
 "nbformat": 4,
 "nbformat_minor": 2
}
